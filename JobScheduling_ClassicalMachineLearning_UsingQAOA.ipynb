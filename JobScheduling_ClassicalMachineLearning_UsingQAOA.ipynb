{
 "cells": [
  {
   "cell_type": "markdown",
   "id": "898f39a6-9cbd-4d3d-ace3-89b096a98487",
   "metadata": {},
   "source": [
    "## converting the job scheduling problem into QAOA"
   ]
  },
  {
   "cell_type": "code",
   "execution_count": null,
   "id": "dda565fd-a22e-4195-9db4-f728166c45f8",
   "metadata": {
    "tags": []
   },
   "outputs": [
    {
     "name": "stderr",
     "output_type": "stream",
     "text": [
      "/tmp/ipykernel_45060/335316709.py:58: DeprecationWarning: The class ``qiskit.utils.quantum_instance.QuantumInstance`` is deprecated as of qiskit-terra 0.24.0. It will be removed no earlier than 3 months after the release date. For code migration guidelines, visit https://qisk.it/qi_migration.\n",
      "  qaoa = QAOA(quantum_instance=QuantumInstance(Aer.get_backend('qasm_simulator')))\n",
      "/tmp/ipykernel_45060/335316709.py:58: DeprecationWarning: The class ``qiskit.algorithms.minimum_eigen_solvers.qaoa.QAOA`` is deprecated as of qiskit-terra 0.24.0. It will be removed no earlier than 3 months after the release date. Instead, use the class ``qiskit.algorithms.minimum_eigensolvers.QAOA``. See https://qisk.it/algo_migration for a migration guide.\n",
      "  qaoa = QAOA(quantum_instance=QuantumInstance(Aer.get_backend('qasm_simulator')))\n"
     ]
    }
   ],
   "source": [
    "from qiskit import Aer, execute\n",
    "from qiskit.circuit import QuantumCircuit, Parameter\n",
    "from qiskit import algorithms\n",
    "from qiskit_optimization import QuadraticProgram\n",
    "from qiskit_optimization.algorithms import MinimumEigenOptimizer\n",
    "from qiskit.algorithms import QAOA\n",
    "from qiskit.utils import QuantumInstance\n",
    "#from qiskit.algorithms.minimum_eigensolvers import QAOA\n",
    "\n",
    " \n",
    "jc = 7\n",
    "mc = 3\n",
    "tc = 3\n",
    "#Step 2: Define the Quadratic Program\n",
    "# Define the Quadratic Program\n",
    "qp = QuadraticProgram()\n",
    "\n",
    "# Add binary variables for each job-timeslot combination\n",
    "for i in range(1, mc+1):  # For 3 jobs\n",
    "    for j in range(1, jc+1):  # For 2 timeslots\n",
    "        for k in range(1,tc+1):\n",
    "            qp.binary_var(f'machine{i}job{j}time{k}')\n",
    "\n",
    "# Define the objective function (minimize the total duration)\n",
    "# For simplicity, we'll assume each job has a unit duration\n",
    "linear = {}\n",
    "for i in range(1, mc+1):\n",
    "    for j in range(1, jc+1):\n",
    "        for k in range(1, tc+1):\n",
    "            linear [f'machine{i}job{j}time{k}'] = 1\n",
    "qp.minimize(linear=linear)\n",
    "\n",
    "\n",
    "    \n",
    "# \n",
    "for i in range(1, tc+1):\n",
    "    job_vars = {f'machine{j}job{k}time{i}': 1 for j in range(1, mc+1) for k in range(1, jc+1)}\n",
    "    rhs= max(min(jc-(mc*(i-1)), mc), 0)   \n",
    "    # 7 3 7/3=2 7%3=2 i<7/3 ?\n",
    "    qp.linear_constraint(linear=job_vars, sense='==', rhs= rhs)  # all variables for a machine and time must sum to 1\n",
    "                    \n",
    "# all jobs are ran once: for job i, sum(machine_jjob_itime_k)=duration of job i,and sum on each machine for job i except for 1 should be 0\n",
    "for i in range(1, jc+1): # iterating over machines\n",
    "    job_vars = {f'machine{k}job{i}time{j}': 1 for k in range(1, mc+1) for j in range(1, tc+1)}  # create a dict comprehension for all jobs\n",
    "    qp.linear_constraint(linear=job_vars, sense='==', rhs=1)  # all variables for a machine and time must sum to 1\n",
    "\n",
    "# no intersection of intervals: for machine i and time j , sum(machine_ijob_ktime_j) for all k jobs must be 1\n",
    "for i in range(1, mc+1):      # iterating over machines\n",
    "    for j in range(1, tc+1):  # iterating over time slots\n",
    "        job_vars = {f'machine{i}job{k}time{j}': 1 for k in range(1, jc+1)}  \n",
    "        qp.linear_constraint(linear=job_vars, sense='<=', rhs=1)  # all variables for a machine and time must sum to 1\n",
    "    \n",
    "\n",
    "# Set up the QAOA algorithm\n",
    "qaoa = QAOA(quantum_instance=QuantumInstance(Aer.get_backend('qasm_simulator')))\n",
    "\n",
    "# Use the MinimumEigenOptimizer to solve the QUBO with QAOA\n",
    "optimizer = MinimumEigenOptimizer(qaoa)\n",
    "result = optimizer.solve(qp)\n",
    "\n",
    "print(result)\n",
    "\n",
    "\n"
   ]
  }
 ],
 "metadata": {
  "kernelspec": {
   "display_name": "Python 3 [Qiskit]",
   "language": "python",
   "name": "python3_qiskit_i5o7if"
  },
  "language_info": {
   "codemirror_mode": {
    "name": "ipython",
    "version": 3
   },
   "file_extension": ".py",
   "mimetype": "text/x-python",
   "name": "python",
   "nbconvert_exporter": "python",
   "pygments_lexer": "ipython3",
   "version": "3.9.18"
  }
 },
 "nbformat": 4,
 "nbformat_minor": 5
}
