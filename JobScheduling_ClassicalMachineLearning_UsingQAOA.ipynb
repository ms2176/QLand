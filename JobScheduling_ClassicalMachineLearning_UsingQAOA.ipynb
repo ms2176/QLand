{
 "cells": [
  {
   "cell_type": "markdown",
   "id": "37d1d5f0",
   "metadata": {},
   "source": [
    "# QArid\n",
    "\n",
    "\n",
    "In studying anthropologic desertification, our team has found that many of the research papers conduct thorough analysis on 4 main critieria: Normal Difference Vegetation Index (NVDI), Land Surface Temperature (LST), DGSI, Albedo. However, many researchers cite [citation to china paper, and other papers] that several challenges exist in forecasting and prediction.\n",
    "\n",
    "At QArid, we focus on solving a pain point of such researchers, which involves studying the above metrics on various models and obtaining results efficiently"
   ]
  },
  {
   "cell_type": "code",
   "execution_count": null,
   "id": "c2f61196",
   "metadata": {},
   "outputs": [],
   "source": []
  },
  {
   "cell_type": "markdown",
   "id": "103acf66",
   "metadata": {},
   "source": [
    "## Using our samples algorithms with QAOA (50 ~ 150 words approx)"
   ]
  },
  {
   "cell_type": "code",
   "execution_count": null,
   "id": "a755e464",
   "metadata": {},
   "outputs": [],
   "source": [
    "# Example Random forest model"
   ]
  },
  {
   "cell_type": "code",
   "execution_count": null,
   "id": "d4bc5011",
   "metadata": {},
   "outputs": [],
   "source": [
    "# Example SVM model \n",
    "\n"
   ]
  },
  {
   "cell_type": "code",
   "execution_count": null,
   "id": "ce7ceebb",
   "metadata": {},
   "outputs": [],
   "source": []
  },
  {
   "cell_type": "markdown",
   "id": "6f1e80cc",
   "metadata": {},
   "source": [
    "### THe scaling of models for large country-wide datasets would require large amounts of super compute (50 ~ 150 words approx)"
   ]
  },
  {
   "cell_type": "code",
   "execution_count": null,
   "id": "9d7d03a6",
   "metadata": {},
   "outputs": [],
   "source": []
  },
  {
   "cell_type": "markdown",
   "id": "3c038de3",
   "metadata": {},
   "source": [
    "### Scheduling the comptue requests requires careful analysis and (50 ~ 150 words approx)"
   ]
  },
  {
   "cell_type": "code",
   "execution_count": null,
   "id": "e5863a2d",
   "metadata": {},
   "outputs": [],
   "source": []
  },
  {
   "cell_type": "markdown",
   "id": "622d558f",
   "metadata": {},
   "source": [
    "### Classical greedy algorithm(50 ~ 150 words approx)"
   ]
  },
  {
   "cell_type": "markdown",
   "id": "898f39a6-9cbd-4d3d-ace3-89b096a98487",
   "metadata": {},
   "source": [
    "## Converting the job scheduling problem into QAOA (50 ~ 150 words approx)\n",
    "\n",
    "\n",
    "### What is our proocess (50 ~ 150 words approx)\n",
    "\n",
    "\n",
    "### How does QAOA work  (50 ~ 150 words approx)\n",
    "\n",
    "\n",
    "### What are our constraints (50 ~ 150 words approx)\n"
   ]
  },
  {
   "cell_type": "code",
   "execution_count": null,
   "id": "b9cd473c",
   "metadata": {},
   "outputs": [],
   "source": [
    "from qiskit import Aer, execute\n",
    "from qiskit.circuit import QuantumCircuit, Parameter\n",
    "from qiskit import algorithms\n",
    "from qiskit_optimization import QuadraticProgram\n",
    "from qiskit_optimization.algorithms import MinimumEigenOptimizer\n",
    "from qiskit.algorithms import QAOA\n",
    "from qiskit.utils import QuantumInstance"
   ]
  },
  {
   "cell_type": "markdown",
   "id": "78936f3b",
   "metadata": {},
   "source": [
    "### Instantiating the quadratic program"
   ]
  },
  {
   "cell_type": "code",
   "execution_count": 1,
   "id": "12b8bb84",
   "metadata": {},
   "outputs": [
    {
     "ename": "NameError",
     "evalue": "name 'QuadraticProgram' is not defined",
     "output_type": "error",
     "traceback": [
      "\u001b[0;31m---------------------------------------------------------------------------\u001b[0m",
      "\u001b[0;31mNameError\u001b[0m                                 Traceback (most recent call last)",
      "Cell \u001b[0;32mIn[1], line 6\u001b[0m\n\u001b[1;32m      3\u001b[0m tc \u001b[38;5;241m=\u001b[39m \u001b[38;5;241m3\u001b[39m\n\u001b[1;32m      4\u001b[0m \u001b[38;5;66;03m#Step 2: Define the Quadratic Program\u001b[39;00m\n\u001b[1;32m      5\u001b[0m \u001b[38;5;66;03m# Define the Quadratic Program\u001b[39;00m\n\u001b[0;32m----> 6\u001b[0m qp \u001b[38;5;241m=\u001b[39m \u001b[43mQuadraticProgram\u001b[49m()\n",
      "\u001b[0;31mNameError\u001b[0m: name 'QuadraticProgram' is not defined"
     ]
    }
   ],
   "source": [
    "jc = 7\n",
    "mc = 3\n",
    "tc = 3\n",
    "#Step 2: Define the Quadratic Program\n",
    "# Define the Quadratic Program\n",
    "qp = QuadraticProgram()\n"
   ]
  },
  {
   "cell_type": "code",
   "execution_count": null,
   "id": "c99fa48a",
   "metadata": {},
   "outputs": [],
   "source": [
    "# Add binary variables for each job-timeslot combination\n",
    "for i in range(1, mc+1):  # For 3 jobs\n",
    "    for j in range(1, jc+1):  # For 2 timeslots\n",
    "        for k in range(1,tc+1):\n",
    "            qp.binary_var(f'machine{i}job{j}time{k}')"
   ]
  },
  {
   "cell_type": "code",
   "execution_count": null,
   "id": "dda565fd-a22e-4195-9db4-f728166c45f8",
   "metadata": {
    "tags": []
   },
   "outputs": [
    {
     "name": "stderr",
     "output_type": "stream",
     "text": [
      "/tmp/ipykernel_45060/335316709.py:58: DeprecationWarning: The class ``qiskit.utils.quantum_instance.QuantumInstance`` is deprecated as of qiskit-terra 0.24.0. It will be removed no earlier than 3 months after the release date. For code migration guidelines, visit https://qisk.it/qi_migration.\n",
      "  qaoa = QAOA(quantum_instance=QuantumInstance(Aer.get_backend('qasm_simulator')))\n",
      "/tmp/ipykernel_45060/335316709.py:58: DeprecationWarning: The class ``qiskit.algorithms.minimum_eigen_solvers.qaoa.QAOA`` is deprecated as of qiskit-terra 0.24.0. It will be removed no earlier than 3 months after the release date. Instead, use the class ``qiskit.algorithms.minimum_eigensolvers.QAOA``. See https://qisk.it/algo_migration for a migration guide.\n",
      "  qaoa = QAOA(quantum_instance=QuantumInstance(Aer.get_backend('qasm_simulator')))\n"
     ]
    }
   ],
   "source": [
    "\n",
    "\n",
    "# Define the objective function (minimize the total duration)\n",
    "# For simplicity, we'll assume each job has a unit duration\n",
    "linear = {}\n",
    "for i in range(1, mc+1):\n",
    "    for j in range(1, jc+1):\n",
    "        for k in range(1, tc+1):\n",
    "            linear [f'machine{i}job{j}time{k}'] = 1\n",
    "qp.minimize(linear=linear)\n",
    "\n",
    "\n",
    "    \n",
    "# \n",
    "for i in range(1, tc+1):\n",
    "    job_vars = {f'machine{j}job{k}time{i}': 1 for j in range(1, mc+1) for k in range(1, jc+1)}\n",
    "    rhs= max(min(jc-(mc*(i-1)), mc), 0)   \n",
    "    # 7 3 7/3=2 7%3=2 i<7/3 ?\n",
    "    qp.linear_constraint(linear=job_vars, sense='==', rhs= rhs)  # all variables for a machine and time must sum to 1\n",
    "                    \n",
    "# all jobs are ran once: for job i, sum(machine_jjob_itime_k)=duration of job i,and sum on each machine for job i except for 1 should be 0\n",
    "for i in range(1, jc+1): # iterating over machines\n",
    "    job_vars = {f'machine{k}job{i}time{j}': 1 for k in range(1, mc+1) for j in range(1, tc+1)}  # create a dict comprehension for all jobs\n",
    "    qp.linear_constraint(linear=job_vars, sense='==', rhs=1)  # all variables for a machine and time must sum to 1\n",
    "\n",
    "# no intersection of intervals: for machine i and time j , sum(machine_ijob_ktime_j) for all k jobs must be 1\n",
    "for i in range(1, mc+1):      # iterating over machines\n",
    "    for j in range(1, tc+1):  # iterating over time slots\n",
    "        job_vars = {f'machine{i}job{k}time{j}': 1 for k in range(1, jc+1)}  \n",
    "        qp.linear_constraint(linear=job_vars, sense='<=', rhs=1)  # all variables for a machine and time must sum to 1\n",
    "    \n",
    "\n",
    "# Set up the QAOA algorithm\n",
    "qaoa = QAOA(quantum_instance=QuantumInstance(Aer.get_backend('qasm_simulator')))\n",
    "\n",
    "# Use the MinimumEigenOptimizer to solve the QUBO with QAOA\n",
    "optimizer = MinimumEigenOptimizer(qaoa)\n",
    "result = optimizer.solve(qp)\n",
    "\n",
    "print(result)\n",
    "\n",
    "\n"
   ]
  },
  {
   "cell_type": "markdown",
   "id": "8065d523",
   "metadata": {},
   "source": [
    "### Choosing which algorithm to run and how to interpret results"
   ]
  },
  {
   "cell_type": "code",
   "execution_count": null,
   "id": "88ee2967",
   "metadata": {},
   "outputs": [],
   "source": [
    "## Results for various tasks"
   ]
  }
 ],
 "metadata": {
  "kernelspec": {
   "display_name": "qb_flask",
   "language": "python",
   "name": "python3"
  },
  "language_info": {
   "codemirror_mode": {
    "name": "ipython",
    "version": 3
   },
   "file_extension": ".py",
   "mimetype": "text/x-python",
   "name": "python",
   "nbconvert_exporter": "python",
   "pygments_lexer": "ipython3",
   "version": "3.9.19"
  }
 },
 "nbformat": 4,
 "nbformat_minor": 5
}
