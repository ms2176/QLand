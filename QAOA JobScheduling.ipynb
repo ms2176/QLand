{
 "cells": [
  {
   "cell_type": "markdown",
   "id": "26e866b0-36d3-4188-8a09-a3e4fdf8c3ac",
   "metadata": {
    "tags": []
   },
   "source": [
    "# QLand || QArdh\n",
    "\n",
    "### Convert The Job Schedualing To QAOA\n",
    "This project is undertaken for the NYU Quantum Computing Hackathon represents an innovative intersection of quantum computing technology and environmental science, specifically targeting the problem of desertification. Desertification is the degradation of land in arid, semi-arid, and dry sub-humid areas, primarily caused by various factors including climate change and human activities such as deforestation, unsustainable agricultural practices, and water misuse. To better monitor and predict patterns of desertification, the project utilizes a quantum computing approach, complemented by classical machine learning techniques."
   ]
  },
  {
   "cell_type": "markdown",
   "id": "acffb8ca-fb78-469e-8d51-c8a883b8f3f7",
   "metadata": {},
   "source": [
    "### Overarching goal of the QLand | QArdh project\n",
    "\n",
    "Enhance the capability to monitor and predict desertification more accurately and efficiently using both classical and quantum computational approaches. By improving the predictive models and optimizing computational resources, the project aims to contribute to the broader efforts in combating land degradation and promoting sustainable land management practices.\n",
    "\n",
    "This detailed focus on combining advanced computational techniques promises a new frontier in environmental science, particularly in addressing critical global challenges such as desertification."
   ]
  },
  {
   "cell_type": "markdown",
   "id": "c0031f09-00ca-4c60-a8a8-c042c2453a11",
   "metadata": {
    "tags": []
   },
   "source": [
    "\n",
    "### Data Collection and Preprocessing\n",
    "1. **Data Sets**: The data sets for this project are derived from an analysis focused on desertification in Iraq, incorporating resources like the work conducted by Omdena on using machine learning and satellite data for desertification detection. The data sets include measurements and indices from satellite imagery, primarily focusing on the Normalized Difference Vegetation Index (NVDI) and Land Surface Temperature (LST), along with other relevant environmental indicators.\n",
    "\n",
    "### Classical Machine Learning Models\n",
    "2. **Classical Analysis**: Initially, the project employs classical machine learning models such as Random Forests (RF) and Support Vector Machines (SVM). These models are applied to subsets of environmental factors, specifically NVDI and LST, to establish baseline desertification predictions and to understand the influence of each individual factor on the desertification process.\n"
   ]
  },
  {
   "cell_type": "markdown",
   "id": "c86b5075-0866-44bd-bfb6-6ef4a0ff00d1",
   "metadata": {
    "tags": []
   },
   "source": [
    "### Quantum Job Scheduling Problem\n",
    "In quantum computing, the job scheduling problem involves determining the optimal sequence of operations or tasks on quantum computers, which is crucial given the nascent and resource-constrained nature of current quantum technology. Quantum Approximate Optimization Algorithm (QAOA) is used here to address this scheduling problem.\n",
    "  "
   ]
  },
  {
   "cell_type": "markdown",
   "id": "15d5696a-440e-4941-92dc-475fec93910e",
   "metadata": {
    "tags": []
   },
   "source": [
    "### Set-Up Imports Needed "
   ]
  },
  {
   "cell_type": "code",
   "execution_count": 1,
   "id": "7f2c9cc2-589c-417f-a115-720932f4f06a",
   "metadata": {},
   "outputs": [],
   "source": [
    "from qiskit import Aer, execute\n",
    "from qiskit.circuit import QuantumCircuit, Parameter\n",
    "from qiskit import algorithms\n",
    "from qiskit_optimization import QuadraticProgram\n",
    "from qiskit_optimization.algorithms import MinimumEigenOptimizer\n",
    "from qiskit.algorithms import QAOA\n",
    "from qiskit.utils import QuantumInstance"
   ]
  },
  {
   "cell_type": "markdown",
   "id": "a5ff0e42-a25b-43f1-8cfd-e320855d3727",
   "metadata": {},
   "source": [
    "### Instantiating the quadratic program"
   ]
  },
  {
   "cell_type": "code",
   "execution_count": 7,
   "id": "41a08a2a-bb01-4ee3-8078-17a365fe2e7f",
   "metadata": {},
   "outputs": [],
   "source": [
    "jc = 3  # job count\n",
    "mc = 2  # machine count\n",
    "tc = 2  # timeslot count\n",
    "\n",
    "# Define the Quadratic Program\n",
    "qp = QuadraticProgram()"
   ]
  },
  {
   "cell_type": "code",
   "execution_count": 8,
   "id": "dda565fd-a22e-4195-9db4-f728166c45f8",
   "metadata": {
    "tags": []
   },
   "outputs": [],
   "source": [
    "# Add binary variables for each job-timeslot combination\n",
    "for i in range(1, mc+1):  # for mc number of machines\n",
    "    for j in range(1, jc+1):  # for jc number of jobs\n",
    "        for k in range(1,tc+1): # for tc number of timeslots\n",
    "            qp.binary_var(f'machine{i}job{j}time{k}')"
   ]
  },
  {
   "cell_type": "code",
   "execution_count": 9,
   "id": "f9d2804d-931b-4b44-ba2f-e9cc9a163b5e",
   "metadata": {},
   "outputs": [],
   "source": [
    "# Define the objective function (minimize the total duration) and initialize all variables to be 1\n",
    "linear = {}\n",
    "for i in range(1, mc+1):\n",
    "    for j in range(1, jc+1):\n",
    "        for k in range(1, tc+1):\n",
    "            linear [f'machine{i}job{j}time{k}'] = 1\n",
    "qp.minimize(linear=linear)"
   ]
  },
  {
   "cell_type": "markdown",
   "id": "7951f78a-b794-4b58-9f57-57eb06227180",
   "metadata": {},
   "source": [
    "### Constraints\n",
    "\n",
    "Putting constraints is a key aspect of ensuring the integrity of the execution and optimizing the scheduling of jobs. By enforcing that each job must be assigned to exactly one timeslot and only one job can be assigned to each timeslot, collisions are prevented, maintaining execution integrity. These constraints also aid in minimizing the total execution time by encouraging even distribution of workload across timeslots and efficient resource utilization. As a result, the scheduling algorithm can find solutions that optimize execution duration, enhancing efficiency and productivity."
   ]
  },
  {
   "cell_type": "code",
   "execution_count": 10,
   "id": "1d3af5d8-a1c2-4f22-b854-384df13be2be",
   "metadata": {},
   "outputs": [],
   "source": [
    "# execute as much jobs as possible in the nearest time possible\n",
    "for i in range(1, tc+1):\n",
    "    job_vars = {f'machine{j}job{k}time{i}': 1 for j in range(1, mc+1) for k in range(1, jc+1)}\n",
    "    rhs= max(min(jc-(mc*(i-1)), mc), 0)\n",
    "    qp.linear_constraint(linear=job_vars, sense='==', rhs= rhs)\n",
    "\n",
    "# ensure that all jobs are ran exactly once\n",
    "for i in range(1, jc+1):\n",
    "    job_vars = {f'machine{k}job{i}time{j}': 1 for k in range(1, mc+1) for j in range(1, tc+1)}\n",
    "    qp.linear_constraint(linear=job_vars, sense='==', rhs=1)\n",
    "\n",
    "# no intersection of job execution on the same machine and time\n",
    "for i in range(1, mc+1):\n",
    "    for j in range(1, tc+1):\n",
    "        job_vars = {f'machine{i}job{k}time{j}': 1 for k in range(1, jc+1)}\n",
    "        qp.linear_constraint(linear=job_vars, sense='<=', rhs=1)"
   ]
  },
  {
   "cell_type": "markdown",
   "id": "bcb0d816-3d70-4b8d-a821-37b27de7aaac",
   "metadata": {},
   "source": [
    " **QAOA**: This is an algorithm used in quantum computing to solve combinatorial problems and optimization challenges. It works by encoding a problem into a Hamiltonian, which describes the energy landscape of a quantum system. QAOA iteratively applies quantum gates to prepare states that approximate the solution to the optimization problem.\n",
    "   - **Application in QArdh**: By using QAOA, the QArdh project aims to optimize the computational workflows required for analyzing the various data streams and models efficiently. This is particularly important when dealing with large-scale data like satellite images and complex interdependencies between environmental factors affecting desertification.\n",
    "\n",
    "The following cell computes the solution while complying with the defined constraints, the output format is a key-value pair, where the key is the combination of the machine, job and timeslot and the value represents a boolean value that indicates whether or not to executing the job at that time and machine."
   ]
  },
  {
   "cell_type": "code",
   "execution_count": 11,
   "id": "a9bd7261-d46f-4a7a-9d5f-258535c54040",
   "metadata": {},
   "outputs": [
    {
     "name": "stderr",
     "output_type": "stream",
     "text": [
      "/tmp/ipykernel_36414/450798756.py:2: DeprecationWarning: The class ``qiskit.utils.quantum_instance.QuantumInstance`` is deprecated as of qiskit-terra 0.24.0. It will be removed no earlier than 3 months after the release date. For code migration guidelines, visit https://qisk.it/qi_migration.\n",
      "  qaoa = QAOA(quantum_instance=QuantumInstance(Aer.get_backend('qasm_simulator')))\n",
      "/tmp/ipykernel_36414/450798756.py:2: DeprecationWarning: The class ``qiskit.algorithms.minimum_eigen_solvers.qaoa.QAOA`` is deprecated as of qiskit-terra 0.24.0. It will be removed no earlier than 3 months after the release date. Instead, use the class ``qiskit.algorithms.minimum_eigensolvers.QAOA``. See https://qisk.it/algo_migration for a migration guide.\n",
      "  qaoa = QAOA(quantum_instance=QuantumInstance(Aer.get_backend('qasm_simulator')))\n"
     ]
    },
    {
     "name": "stdout",
     "output_type": "stream",
     "text": [
      "fval=3.0, machine1job1time1=0.0, machine1job1time2=0.0, machine1job2time1=1.0, machine1job2time2=0.0, machine1job3time1=0.0, machine1job3time2=1.0, machine2job1time1=1.0, machine2job1time2=0.0, machine2job2time1=0.0, machine2job2time2=0.0, machine2job3time1=0.0, machine2job3time2=0.0, status=SUCCESS\n"
     ]
    }
   ],
   "source": [
    "# Set up the QAOA algorithm\n",
    "qaoa = QAOA(quantum_instance=QuantumInstance(Aer.get_backend('qasm_simulator')))\n",
    "\n",
    "# Use the MinimumEigenOptimizer to solve the QUBO with QAOA\n",
    "optimizer = MinimumEigenOptimizer(qaoa)\n",
    "result = optimizer.solve(qp)\n",
    "\n",
    "print(result)"
   ]
  }
 ],
 "metadata": {
  "kernelspec": {
   "display_name": ".venv",
   "language": "python",
   "name": "python3"
  },
  "language_info": {
   "codemirror_mode": {
    "name": "ipython",
    "version": 3
   },
   "file_extension": ".py",
   "mimetype": "text/x-python",
   "name": "python",
   "nbconvert_exporter": "python",
   "pygments_lexer": "ipython3",
   "version": "3.11.6"
  }
 },
 "nbformat": 4,
 "nbformat_minor": 5
}
