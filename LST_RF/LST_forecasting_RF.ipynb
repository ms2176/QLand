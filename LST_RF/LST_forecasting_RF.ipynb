{
 "cells": [
  {
   "cell_type": "code",
   "execution_count": 24,
   "metadata": {
    "id": "OugZAAT0UnFO"
   },
   "outputs": [
    {
     "name": "stdout",
     "output_type": "stream",
     "text": [
      "Requirement already satisfied: pandas==1.5.3 in c:\\users\\smufl\\anaconda3\\lib\\site-packages (1.5.3)\n",
      "Requirement already satisfied: python-dateutil>=2.8.1 in c:\\users\\smufl\\anaconda3\\lib\\site-packages (from pandas==1.5.3) (2.8.2)\n",
      "Requirement already satisfied: pytz>=2020.1 in c:\\users\\smufl\\anaconda3\\lib\\site-packages (from pandas==1.5.3) (2023.3.post1)\n",
      "Requirement already satisfied: numpy>=1.21.0 in c:\\users\\smufl\\appdata\\roaming\\python\\python311\\site-packages (from pandas==1.5.3) (1.23.5)\n",
      "Requirement already satisfied: six>=1.5 in c:\\users\\smufl\\anaconda3\\lib\\site-packages (from python-dateutil>=2.8.1->pandas==1.5.3) (1.16.0)\n",
      "1.5.3\n"
     ]
    }
   ],
   "source": [
    "%pip install pandas==1.5.3\n",
    "import pandas as pd\n",
    "import numpy as np\n",
    "%matplotlib inline\n",
    "\n",
    "from sklearn.impute import SimpleImputer\n",
    "from sklearn.ensemble import RandomForestRegressor\n",
    "\n",
    "print(pd.__version__)"
   ]
  },
  {
   "cell_type": "code",
   "execution_count": 25,
   "metadata": {},
   "outputs": [
    {
     "name": "stdout",
     "output_type": "stream",
     "text": [
      " Volume in drive C is OS\n",
      " Volume Serial Number is 126D-D836\n",
      "\n",
      " Directory of C:\\Users\\smufl\\Downloads\\Day2\\LST\n",
      "\n",
      "27/04/2024  19:27    <DIR>          .\n",
      "27/04/2024  19:26    <DIR>          ..\n",
      "27/04/2024  16:58    <DIR>          .ipynb_checkpoints\n",
      "27/04/2024  19:26           169,019 LST_forecasting.ipynb\n",
      "27/04/2024  19:27            36,538 modis_ndvi_series_LST.csv\n",
      "               2 File(s)        205,557 bytes\n",
      "               3 Dir(s)  813,589,442,560 bytes free\n"
     ]
    }
   ],
   "source": [
    "!dir"
   ]
  },
  {
   "cell_type": "code",
   "execution_count": null,
   "metadata": {
    "colab": {
     "base_uri": "https://localhost:8080/",
     "height": 205
    },
    "id": "v0bT4THATbaJ",
    "outputId": "c0483c0d-dd88-459a-edf4-dd5c6e0f810b"
   },
   "outputs": [
    {
     "data": {
      "text/html": [
       "<div>\n",
       "<style scoped>\n",
       "    .dataframe tbody tr th:only-of-type {\n",
       "        vertical-align: middle;\n",
       "    }\n",
       "\n",
       "    .dataframe tbody tr th {\n",
       "        vertical-align: top;\n",
       "    }\n",
       "\n",
       "    .dataframe thead th {\n",
       "        text-align: right;\n",
       "    }\n",
       "</style>\n",
       "<table border=\"1\" class=\"dataframe\">\n",
       "  <thead>\n",
       "    <tr style=\"text-align: right;\">\n",
       "      <th></th>\n",
       "      <th>20180101A</th>\n",
       "      <th>20180101D</th>\n",
       "      <th>20180102A</th>\n",
       "      <th>20180102D</th>\n",
       "      <th>20180103A</th>\n",
       "      <th>20180103D</th>\n",
       "      <th>20180104A</th>\n",
       "      <th>20180104D</th>\n",
       "      <th>20180105A</th>\n",
       "      <th>20180105D</th>\n",
       "      <th>...</th>\n",
       "      <th>20200623D</th>\n",
       "      <th>20200624A</th>\n",
       "      <th>20200624D</th>\n",
       "      <th>20200625A</th>\n",
       "      <th>20200625D</th>\n",
       "      <th>20200626A</th>\n",
       "      <th>20200626D</th>\n",
       "      <th>20200627A</th>\n",
       "      <th>20200627D</th>\n",
       "      <th>loc</th>\n",
       "    </tr>\n",
       "  </thead>\n",
       "  <tbody>\n",
       "    <tr>\n",
       "      <th>0</th>\n",
       "      <td>-9999</td>\n",
       "      <td>-9999</td>\n",
       "      <td>-9999</td>\n",
       "      <td>-9999</td>\n",
       "      <td>-9999</td>\n",
       "      <td>-9999</td>\n",
       "      <td>-9999</td>\n",
       "      <td>-9999</td>\n",
       "      <td>-9999</td>\n",
       "      <td>-9999</td>\n",
       "      <td>...</td>\n",
       "      <td>1.65</td>\n",
       "      <td>1.5</td>\n",
       "      <td>1.64</td>\n",
       "      <td>1.5</td>\n",
       "      <td>1.62</td>\n",
       "      <td>-9999</td>\n",
       "      <td>-9999</td>\n",
       "      <td>1.49</td>\n",
       "      <td>1.66</td>\n",
       "      <td>L1</td>\n",
       "    </tr>\n",
       "    <tr>\n",
       "      <th>1</th>\n",
       "      <td>-9999</td>\n",
       "      <td>-9999</td>\n",
       "      <td>-9999</td>\n",
       "      <td>-9999</td>\n",
       "      <td>-9999</td>\n",
       "      <td>-9999</td>\n",
       "      <td>-9999</td>\n",
       "      <td>-9999</td>\n",
       "      <td>-9999</td>\n",
       "      <td>-9999</td>\n",
       "      <td>...</td>\n",
       "      <td>1.65</td>\n",
       "      <td>1.5</td>\n",
       "      <td>1.64</td>\n",
       "      <td>1.5</td>\n",
       "      <td>1.62</td>\n",
       "      <td>-9999</td>\n",
       "      <td>-9999</td>\n",
       "      <td>1.49</td>\n",
       "      <td>1.66</td>\n",
       "      <td>L2</td>\n",
       "    </tr>\n",
       "  </tbody>\n",
       "</table>\n",
       "<p>2 rows × 1798 columns</p>\n",
       "</div>"
      ],
      "text/plain": [
       "   20180101A  20180101D  20180102A  20180102D  20180103A  20180103D  \\\n",
       "0      -9999      -9999      -9999      -9999      -9999      -9999   \n",
       "1      -9999      -9999      -9999      -9999      -9999      -9999   \n",
       "\n",
       "   20180104A  20180104D  20180105A  20180105D  ...  20200623D  20200624A  \\\n",
       "0      -9999      -9999      -9999      -9999  ...       1.65        1.5   \n",
       "1      -9999      -9999      -9999      -9999  ...       1.65        1.5   \n",
       "\n",
       "   20200624D  20200625A  20200625D  20200626A  20200626D  20200627A  \\\n",
       "0       1.64        1.5       1.62      -9999      -9999       1.49   \n",
       "1       1.64        1.5       1.62      -9999      -9999       1.49   \n",
       "\n",
       "   20200627D  loc  \n",
       "0       1.66   L1  \n",
       "1       1.66   L2  \n",
       "\n",
       "[2 rows x 1798 columns]"
      ]
     },
     "execution_count": 26,
     "metadata": {},
     "output_type": "execute_result"
    }
   ],
   "source": [
    "data = pd.read_csv('modis_ndvi_series_LST.csv')\n",
    "data = data.filter(regex=r'loc|20')\n",
    "data.head()"
   ]
  },
  {
   "cell_type": "markdown",
   "metadata": {
    "id": "NzzCMU5A_Z-N"
   },
   "source": [
    "# Computing annual means to remove seasonality.\n"
   ]
  },
  {
   "cell_type": "code",
   "execution_count": 27,
   "metadata": {
    "colab": {
     "base_uri": "https://localhost:8080/",
     "height": 1000
    },
    "id": "iKFa8v1aaG06",
    "outputId": "60052c78-27cc-4e76-8689-28a90b10dc46"
   },
   "outputs": [
    {
     "name": "stdout",
     "output_type": "stream",
     "text": [
      "   year loc      NDVI\n",
      "0  2018  L1  1.496345\n",
      "1  2018  L2  1.496345\n",
      "2  2019  L1  1.478664\n",
      "3  2019  L2  1.478664\n",
      "4  2020  L1  1.452186\n",
      "5  2020  L2  1.452186\n"
     ]
    },
    {
     "name": "stderr",
     "output_type": "stream",
     "text": [
      "C:\\Users\\smufl\\AppData\\Local\\Temp\\ipykernel_15664\\1059754221.py:12: FutureWarning: The default value of numeric_only in DataFrameGroupBy.mean is deprecated. In a future version, numeric_only will default to False. Either specify numeric_only or select only columns which should be valid for the function.\n",
      "  year_mean = melt.groupby(['year', 'loc']).mean().reset_index()\n"
     ]
    }
   ],
   "source": [
    "# Melt the DataFrame to long format\n",
    "melt = data.melt(id_vars='loc', var_name='day', value_name='NDVI')\n",
    "melt = melt[(melt['NDVI'] > 0)]  # Remove negative values\n",
    "\n",
    "# Extract year from the 'day' column\n",
    "melt['year'] = melt['day'].str.extract('(\\d{4})\\d{4}', expand=False).astype(int)\n",
    "\n",
    "# Ensure 'year' column contains only numeric values\n",
    "melt = melt.dropna(subset=['year'])  # Drop rows with missing year values\n",
    "\n",
    "# Computing annual means\n",
    "year_mean = melt.groupby(['year', 'loc']).mean().reset_index()\n",
    "print(year_mean)"
   ]
  },
  {
   "cell_type": "markdown",
   "metadata": {
    "id": "1GdysAhO_v41"
   },
   "source": [
    "# Split dataset"
   ]
  },
  {
   "cell_type": "code",
   "execution_count": 28,
   "metadata": {
    "colab": {
     "base_uri": "https://localhost:8080/"
    },
    "id": "L-IO1FxauT1G",
    "outputId": "2c32e9b3-5ede-448f-f1af-c476d6628b5c"
   },
   "outputs": [
    {
     "data": {
      "text/plain": [
       "RangeIndex(start=0, stop=6, step=1)"
      ]
     },
     "execution_count": 28,
     "metadata": {},
     "output_type": "execute_result"
    }
   ],
   "source": [
    "year_mean.index"
   ]
  },
  {
   "cell_type": "code",
   "execution_count": 29,
   "metadata": {
    "id": "Md6Vi5RCtmlF"
   },
   "outputs": [],
   "source": [
    "split_point = 28\n",
    "melt_train = year_mean[year_mean.index < split_point].copy()\n",
    "melt_valid = year_mean[year_mean.index >= split_point].copy()"
   ]
  },
  {
   "cell_type": "code",
   "execution_count": 30,
   "metadata": {
    "colab": {
     "base_uri": "https://localhost:8080/",
     "height": 926
    },
    "id": "zob2AvPSwcCU",
    "outputId": "9bea4bed-7f23-422a-e4f2-a531e6462895"
   },
   "outputs": [
    {
     "data": {
      "text/html": [
       "<div>\n",
       "<style scoped>\n",
       "    .dataframe tbody tr th:only-of-type {\n",
       "        vertical-align: middle;\n",
       "    }\n",
       "\n",
       "    .dataframe tbody tr th {\n",
       "        vertical-align: top;\n",
       "    }\n",
       "\n",
       "    .dataframe thead th {\n",
       "        text-align: right;\n",
       "    }\n",
       "</style>\n",
       "<table border=\"1\" class=\"dataframe\">\n",
       "  <thead>\n",
       "    <tr style=\"text-align: right;\">\n",
       "      <th></th>\n",
       "      <th>year</th>\n",
       "      <th>loc</th>\n",
       "      <th>NDVI</th>\n",
       "    </tr>\n",
       "  </thead>\n",
       "  <tbody>\n",
       "    <tr>\n",
       "      <th>0</th>\n",
       "      <td>2018</td>\n",
       "      <td>L1</td>\n",
       "      <td>1.496345</td>\n",
       "    </tr>\n",
       "    <tr>\n",
       "      <th>1</th>\n",
       "      <td>2018</td>\n",
       "      <td>L2</td>\n",
       "      <td>1.496345</td>\n",
       "    </tr>\n",
       "    <tr>\n",
       "      <th>2</th>\n",
       "      <td>2019</td>\n",
       "      <td>L1</td>\n",
       "      <td>1.478664</td>\n",
       "    </tr>\n",
       "    <tr>\n",
       "      <th>3</th>\n",
       "      <td>2019</td>\n",
       "      <td>L2</td>\n",
       "      <td>1.478664</td>\n",
       "    </tr>\n",
       "    <tr>\n",
       "      <th>4</th>\n",
       "      <td>2020</td>\n",
       "      <td>L1</td>\n",
       "      <td>1.452186</td>\n",
       "    </tr>\n",
       "    <tr>\n",
       "      <th>5</th>\n",
       "      <td>2020</td>\n",
       "      <td>L2</td>\n",
       "      <td>1.452186</td>\n",
       "    </tr>\n",
       "  </tbody>\n",
       "</table>\n",
       "</div>"
      ],
      "text/plain": [
       "   year loc      NDVI\n",
       "0  2018  L1  1.496345\n",
       "1  2018  L2  1.496345\n",
       "2  2019  L1  1.478664\n",
       "3  2019  L2  1.478664\n",
       "4  2020  L1  1.452186\n",
       "5  2020  L2  1.452186"
      ]
     },
     "execution_count": 30,
     "metadata": {},
     "output_type": "execute_result"
    }
   ],
   "source": [
    "melt_train"
   ]
  },
  {
   "cell_type": "code",
   "execution_count": 31,
   "metadata": {
    "colab": {
     "base_uri": "https://localhost:8080/",
     "height": 425
    },
    "id": "pVrHj2P1wb_j",
    "outputId": "1d6e9d70-96ef-4181-c6b2-c4f8eb9ecde9"
   },
   "outputs": [
    {
     "data": {
      "text/html": [
       "<div>\n",
       "<style scoped>\n",
       "    .dataframe tbody tr th:only-of-type {\n",
       "        vertical-align: middle;\n",
       "    }\n",
       "\n",
       "    .dataframe tbody tr th {\n",
       "        vertical-align: top;\n",
       "    }\n",
       "\n",
       "    .dataframe thead th {\n",
       "        text-align: right;\n",
       "    }\n",
       "</style>\n",
       "<table border=\"1\" class=\"dataframe\">\n",
       "  <thead>\n",
       "    <tr style=\"text-align: right;\">\n",
       "      <th></th>\n",
       "      <th>year</th>\n",
       "      <th>loc</th>\n",
       "      <th>NDVI</th>\n",
       "    </tr>\n",
       "  </thead>\n",
       "  <tbody>\n",
       "  </tbody>\n",
       "</table>\n",
       "</div>"
      ],
      "text/plain": [
       "Empty DataFrame\n",
       "Columns: [year, loc, NDVI]\n",
       "Index: []"
      ]
     },
     "execution_count": 31,
     "metadata": {},
     "output_type": "execute_result"
    }
   ],
   "source": [
    "melt_valid"
   ]
  },
  {
   "cell_type": "markdown",
   "metadata": {
    "id": "sWXN95Zq3-86"
   },
   "source": [
    "# Creating Features and Targets"
   ]
  },
  {
   "cell_type": "code",
   "execution_count": 32,
   "metadata": {
    "colab": {
     "base_uri": "https://localhost:8080/",
     "height": 926
    },
    "id": "EGX9ofSYwb4t",
    "outputId": "1d830a9e-775c-4696-c802-a23529625e40"
   },
   "outputs": [
    {
     "data": {
      "text/html": [
       "<div>\n",
       "<style scoped>\n",
       "    .dataframe tbody tr th:only-of-type {\n",
       "        vertical-align: middle;\n",
       "    }\n",
       "\n",
       "    .dataframe tbody tr th {\n",
       "        vertical-align: top;\n",
       "    }\n",
       "\n",
       "    .dataframe thead th {\n",
       "        text-align: right;\n",
       "    }\n",
       "</style>\n",
       "<table border=\"1\" class=\"dataframe\">\n",
       "  <thead>\n",
       "    <tr style=\"text-align: right;\">\n",
       "      <th></th>\n",
       "      <th>year</th>\n",
       "      <th>loc</th>\n",
       "      <th>NDVI</th>\n",
       "      <th>lead1</th>\n",
       "      <th>lead2</th>\n",
       "      <th>lead3</th>\n",
       "      <th>lead4</th>\n",
       "      <th>lead5</th>\n",
       "      <th>lag1</th>\n",
       "      <th>lag2</th>\n",
       "      <th>lag3</th>\n",
       "      <th>diff_1</th>\n",
       "    </tr>\n",
       "  </thead>\n",
       "  <tbody>\n",
       "    <tr>\n",
       "      <th>0</th>\n",
       "      <td>2018</td>\n",
       "      <td>L1</td>\n",
       "      <td>1.496345</td>\n",
       "      <td>1.478664</td>\n",
       "      <td>1.452186</td>\n",
       "      <td>0.0</td>\n",
       "      <td>0.0</td>\n",
       "      <td>0.0</td>\n",
       "      <td>0.000000</td>\n",
       "      <td>0.000000</td>\n",
       "      <td>0.0</td>\n",
       "      <td>0.000000</td>\n",
       "    </tr>\n",
       "    <tr>\n",
       "      <th>1</th>\n",
       "      <td>2018</td>\n",
       "      <td>L2</td>\n",
       "      <td>1.496345</td>\n",
       "      <td>1.478664</td>\n",
       "      <td>1.452186</td>\n",
       "      <td>0.0</td>\n",
       "      <td>0.0</td>\n",
       "      <td>0.0</td>\n",
       "      <td>0.000000</td>\n",
       "      <td>0.000000</td>\n",
       "      <td>0.0</td>\n",
       "      <td>0.000000</td>\n",
       "    </tr>\n",
       "    <tr>\n",
       "      <th>2</th>\n",
       "      <td>2019</td>\n",
       "      <td>L1</td>\n",
       "      <td>1.478664</td>\n",
       "      <td>1.452186</td>\n",
       "      <td>0.000000</td>\n",
       "      <td>0.0</td>\n",
       "      <td>0.0</td>\n",
       "      <td>0.0</td>\n",
       "      <td>1.496345</td>\n",
       "      <td>0.000000</td>\n",
       "      <td>0.0</td>\n",
       "      <td>-0.017680</td>\n",
       "    </tr>\n",
       "    <tr>\n",
       "      <th>3</th>\n",
       "      <td>2019</td>\n",
       "      <td>L2</td>\n",
       "      <td>1.478664</td>\n",
       "      <td>1.452186</td>\n",
       "      <td>0.000000</td>\n",
       "      <td>0.0</td>\n",
       "      <td>0.0</td>\n",
       "      <td>0.0</td>\n",
       "      <td>1.496345</td>\n",
       "      <td>0.000000</td>\n",
       "      <td>0.0</td>\n",
       "      <td>-0.017680</td>\n",
       "    </tr>\n",
       "    <tr>\n",
       "      <th>4</th>\n",
       "      <td>2020</td>\n",
       "      <td>L1</td>\n",
       "      <td>1.452186</td>\n",
       "      <td>0.000000</td>\n",
       "      <td>0.000000</td>\n",
       "      <td>0.0</td>\n",
       "      <td>0.0</td>\n",
       "      <td>0.0</td>\n",
       "      <td>1.478664</td>\n",
       "      <td>1.496345</td>\n",
       "      <td>0.0</td>\n",
       "      <td>-0.026478</td>\n",
       "    </tr>\n",
       "    <tr>\n",
       "      <th>5</th>\n",
       "      <td>2020</td>\n",
       "      <td>L2</td>\n",
       "      <td>1.452186</td>\n",
       "      <td>0.000000</td>\n",
       "      <td>0.000000</td>\n",
       "      <td>0.0</td>\n",
       "      <td>0.0</td>\n",
       "      <td>0.0</td>\n",
       "      <td>1.478664</td>\n",
       "      <td>1.496345</td>\n",
       "      <td>0.0</td>\n",
       "      <td>-0.026478</td>\n",
       "    </tr>\n",
       "  </tbody>\n",
       "</table>\n",
       "</div>"
      ],
      "text/plain": [
       "   year loc      NDVI     lead1     lead2  lead3  lead4  lead5      lag1  \\\n",
       "0  2018  L1  1.496345  1.478664  1.452186    0.0    0.0    0.0  0.000000   \n",
       "1  2018  L2  1.496345  1.478664  1.452186    0.0    0.0    0.0  0.000000   \n",
       "2  2019  L1  1.478664  1.452186  0.000000    0.0    0.0    0.0  1.496345   \n",
       "3  2019  L2  1.478664  1.452186  0.000000    0.0    0.0    0.0  1.496345   \n",
       "4  2020  L1  1.452186  0.000000  0.000000    0.0    0.0    0.0  1.478664   \n",
       "5  2020  L2  1.452186  0.000000  0.000000    0.0    0.0    0.0  1.478664   \n",
       "\n",
       "       lag2  lag3    diff_1  \n",
       "0  0.000000   0.0  0.000000  \n",
       "1  0.000000   0.0  0.000000  \n",
       "2  0.000000   0.0 -0.017680  \n",
       "3  0.000000   0.0 -0.017680  \n",
       "4  1.496345   0.0 -0.026478  \n",
       "5  1.496345   0.0 -0.026478  "
      ]
     },
     "execution_count": 32,
     "metadata": {},
     "output_type": "execute_result"
    }
   ],
   "source": [
    "melt_train['lead1'] = melt_train.groupby(\"loc\")['NDVI'].shift(-1).fillna(0)\n",
    "melt_train['lead2'] = melt_train.groupby(\"loc\")['NDVI'].shift(-2).fillna(0)\n",
    "melt_train['lead3'] = melt_train.groupby(\"loc\")['NDVI'].shift(-3).fillna(0)\n",
    "melt_train['lead4'] = melt_train.groupby(\"loc\")['NDVI'].shift(-4).fillna(0)\n",
    "melt_train['lead5'] = melt_train.groupby(\"loc\")['NDVI'].shift(-5).fillna(0)\n",
    "\n",
    "melt_train['lag1'] = melt_train.groupby(\"loc\")['NDVI'].shift(1).fillna(0)\n",
    "melt_train['lag2'] = melt_train.groupby(\"loc\")['NDVI'].shift(2).fillna(0)\n",
    "melt_train['lag3'] = melt_train.groupby(\"loc\")['NDVI'].shift(3).fillna(0)\n",
    "\n",
    "melt_train[\"diff_1\"] = melt_train.groupby(\"loc\")['NDVI'].diff(1).fillna(0)\n",
    "\n",
    "melt_train"
   ]
  },
  {
   "cell_type": "code",
   "execution_count": 33,
   "metadata": {
    "colab": {
     "base_uri": "https://localhost:8080/",
     "height": 425
    },
    "id": "U3OcVY_Sy2vC",
    "outputId": "9e69aad4-39d1-4be5-a252-6f061ff7134c"
   },
   "outputs": [
    {
     "data": {
      "text/html": [
       "<div>\n",
       "<style scoped>\n",
       "    .dataframe tbody tr th:only-of-type {\n",
       "        vertical-align: middle;\n",
       "    }\n",
       "\n",
       "    .dataframe tbody tr th {\n",
       "        vertical-align: top;\n",
       "    }\n",
       "\n",
       "    .dataframe thead th {\n",
       "        text-align: right;\n",
       "    }\n",
       "</style>\n",
       "<table border=\"1\" class=\"dataframe\">\n",
       "  <thead>\n",
       "    <tr style=\"text-align: right;\">\n",
       "      <th></th>\n",
       "      <th>year</th>\n",
       "      <th>loc</th>\n",
       "      <th>NDVI</th>\n",
       "      <th>lead1</th>\n",
       "      <th>lead2</th>\n",
       "      <th>lead3</th>\n",
       "      <th>lead4</th>\n",
       "      <th>lead5</th>\n",
       "      <th>lag1</th>\n",
       "      <th>lag2</th>\n",
       "      <th>lag3</th>\n",
       "      <th>diff_1</th>\n",
       "    </tr>\n",
       "  </thead>\n",
       "  <tbody>\n",
       "  </tbody>\n",
       "</table>\n",
       "</div>"
      ],
      "text/plain": [
       "Empty DataFrame\n",
       "Columns: [year, loc, NDVI, lead1, lead2, lead3, lead4, lead5, lag1, lag2, lag3, diff_1]\n",
       "Index: []"
      ]
     },
     "execution_count": 33,
     "metadata": {},
     "output_type": "execute_result"
    }
   ],
   "source": [
    "melt_valid['lead1'] = melt_valid.groupby(\"loc\")['NDVI'].shift(-1)\n",
    "melt_valid['lead2'] = melt_valid.groupby(\"loc\")['NDVI'].shift(-2)\n",
    "melt_valid['lead3'] = melt_valid.groupby(\"loc\")['NDVI'].shift(-3)\n",
    "melt_valid['lead4'] = melt_valid.groupby(\"loc\")['NDVI'].shift(-4)\n",
    "melt_valid['lead5'] = melt_valid.groupby(\"loc\")['NDVI'].shift(-5)\n",
    "\n",
    "melt_valid['lag1'] = melt_valid.groupby(\"loc\")['NDVI'].shift(1)\n",
    "melt_valid['lag2'] = melt_valid.groupby(\"loc\")['NDVI'].shift(2)\n",
    "melt_valid['lag3'] = melt_valid.groupby(\"loc\")['NDVI'].shift(3)\n",
    "\n",
    "melt_valid[\"diff_1\"] = melt_valid.groupby(\"loc\")['NDVI'].diff(1)\n",
    "\n",
    "melt_valid"
   ]
  },
  {
   "cell_type": "code",
   "execution_count": 34,
   "metadata": {
    "colab": {
     "base_uri": "https://localhost:8080/",
     "height": 613
    },
    "id": "sTDVTUJA3Y4w",
    "outputId": "be6315ee-105c-486c-9122-f8422827a4cd"
   },
   "outputs": [],
   "source": [
    "# drop rows without target values\n",
    "\n",
    "#melt_train = melt_train.dropna(subset=['lead1','lead2','lead3','lead4','lead5'])\n",
    "#melt_train\n"
   ]
  },
  {
   "cell_type": "markdown",
   "metadata": {
    "id": "ZTOCyRmrBlZV"
   },
   "source": [
    "# Train the model"
   ]
  },
  {
   "cell_type": "code",
   "execution_count": 35,
   "metadata": {
    "id": "uT_8zALE4Pd2"
   },
   "outputs": [],
   "source": [
    "features = ['NDVI', 'lag1', 'lag2', 'lag3','diff_1']"
   ]
  },
  {
   "cell_type": "code",
   "execution_count": 36,
   "metadata": {
    "colab": {
     "base_uri": "https://localhost:8080/"
    },
    "id": "ziYUG0kv3_rX",
    "outputId": "03fcf46b-0c8d-4927-ee61-16e9c0c04c9f"
   },
   "outputs": [
    {
     "name": "stdout",
     "output_type": "stream",
     "text": [
      "Number of samples (n): 6\n",
      "Number of features (m): 5\n",
      "Training time: 0.3079416751861572 seconds\n"
     ]
    }
   ],
   "source": [
    "import time\n",
    "\n",
    "start_time = time.time()\n",
    "\n",
    "imputer = SimpleImputer()\n",
    "Xtr = imputer.fit_transform(melt_train[features])\n",
    "ytr = melt_train[['lead1','lead2','lead3','lead4','lead5']]\n",
    "\n",
    "mdl = RandomForestRegressor(n_estimators=100, random_state=0, n_jobs=6) #\n",
    "mdl.fit(Xtr, ytr)\n",
    "# Check the shape of the transformed feature matrix Xtr\n",
    "print(\"Number of samples (n):\", Xtr.shape[0])\n",
    "print(\"Number of features (m):\", Xtr.shape[1])\n",
    "\n",
    "# overall complexity of training a Random Forest model - O(k * n * m * log(n)), \n",
    "# where k is the number of estimators, n is the number of samples, and m is the number of features.\n",
    "\n",
    "# for this dataset, O(100 * n * m * log(n))\n",
    "# Number of samples (n): 18\n",
    "# Number of features (m): 5\n",
    "\n",
    "end_time = time.time()\n",
    "\n",
    "# Calculate the duration\n",
    "duration_seconds = end_time - start_time\n",
    "print(\"Training time:\", duration_seconds, \"seconds\")"
   ]
  },
  {
   "cell_type": "code",
   "execution_count": 3,
   "metadata": {},
   "outputs": [
    {
     "data": {
      "image/png": "[encoded data removed]",
      "text/plain": [
       "<Figure size 1000x600 with 1 Axes>"
      ]
     },
     "metadata": {},
     "output_type": "display_data"
    }
   ],
   "source": [
    "import numpy as np\n",
    "import matplotlib.pyplot as plt\n",
    "\n",
    "def plot_rf_scaling(num_estimators, num_features, max_samples):\n",
    "    n_samples = np.arange(1, max_samples, 100)  # Sample size range from 1 to max_samples with steps of 100\n",
    "    computational_cost = num_estimators * n_samples * num_features * np.log(n_samples)\n",
    "\n",
    "    plt.figure(figsize=(10, 6))\n",
    "    plt.plot(n_samples, computational_cost, label='Computational Cost')\n",
    "    plt.xlabel('Number of Samples (n)')\n",
    "    plt.ylabel('Computational Cost (k * n * m * log(n))')\n",
    "    plt.title('Scaling of Random Forest with Number of Samples')\n",
    "    plt.legend()\n",
    "    plt.grid(True)\n",
    "    plt.show()\n",
    "\n",
    "plot_rf_scaling(num_estimators=10, num_features=5, max_samples=1000000)"
   ]
  },
  {
   "cell_type": "markdown",
   "metadata": {
    "id": "Dj4m-DHC-leU"
   },
   "source": [
    "# Predicting NDVI  "
   ]
  },
  {
   "cell_type": "code",
   "execution_count": 38,
   "metadata": {
    "id": "11Tpywn12t8Q"
   },
   "outputs": [
    {
     "ename": "ValueError",
     "evalue": "Found array with 0 sample(s) (shape=(0, 5)) while a minimum of 1 is required by SimpleImputer.",
     "output_type": "error",
     "traceback": [
      "\u001b[1;31m---------------------------------------------------------------------------\u001b[0m",
      "\u001b[1;31mValueError\u001b[0m                                Traceback (most recent call last)",
      "Cell \u001b[1;32mIn[38], line 1\u001b[0m\n\u001b[1;32m----> 1\u001b[0m Xval \u001b[38;5;241m=\u001b[39m \u001b[43mimputer\u001b[49m\u001b[38;5;241;43m.\u001b[39;49m\u001b[43mtransform\u001b[49m\u001b[43m(\u001b[49m\u001b[43mmelt_valid\u001b[49m\u001b[43m[\u001b[49m\u001b[43mfeatures\u001b[49m\u001b[43m]\u001b[49m\u001b[43m)\u001b[49m\n\u001b[0;32m      2\u001b[0m preds \u001b[38;5;241m=\u001b[39m mdl\u001b[38;5;241m.\u001b[39mpredict(Xval)\n",
      "File \u001b[1;32m~\\anaconda3\\Lib\\site-packages\\sklearn\\utils\\_set_output.py:140\u001b[0m, in \u001b[0;36m_wrap_method_output.<locals>.wrapped\u001b[1;34m(self, X, *args, **kwargs)\u001b[0m\n\u001b[0;32m    138\u001b[0m \u001b[38;5;129m@wraps\u001b[39m(f)\n\u001b[0;32m    139\u001b[0m \u001b[38;5;28;01mdef\u001b[39;00m \u001b[38;5;21mwrapped\u001b[39m(\u001b[38;5;28mself\u001b[39m, X, \u001b[38;5;241m*\u001b[39margs, \u001b[38;5;241m*\u001b[39m\u001b[38;5;241m*\u001b[39mkwargs):\n\u001b[1;32m--> 140\u001b[0m     data_to_wrap \u001b[38;5;241m=\u001b[39m \u001b[43mf\u001b[49m\u001b[43m(\u001b[49m\u001b[38;5;28;43mself\u001b[39;49m\u001b[43m,\u001b[49m\u001b[43m \u001b[49m\u001b[43mX\u001b[49m\u001b[43m,\u001b[49m\u001b[43m \u001b[49m\u001b[38;5;241;43m*\u001b[39;49m\u001b[43margs\u001b[49m\u001b[43m,\u001b[49m\u001b[43m \u001b[49m\u001b[38;5;241;43m*\u001b[39;49m\u001b[38;5;241;43m*\u001b[39;49m\u001b[43mkwargs\u001b[49m\u001b[43m)\u001b[49m\n\u001b[0;32m    141\u001b[0m     \u001b[38;5;28;01mif\u001b[39;00m \u001b[38;5;28misinstance\u001b[39m(data_to_wrap, \u001b[38;5;28mtuple\u001b[39m):\n\u001b[0;32m    142\u001b[0m         \u001b[38;5;66;03m# only wrap the first output for cross decomposition\u001b[39;00m\n\u001b[0;32m    143\u001b[0m         \u001b[38;5;28;01mreturn\u001b[39;00m (\n\u001b[0;32m    144\u001b[0m             _wrap_data_with_container(method, data_to_wrap[\u001b[38;5;241m0\u001b[39m], X, \u001b[38;5;28mself\u001b[39m),\n\u001b[0;32m    145\u001b[0m             \u001b[38;5;241m*\u001b[39mdata_to_wrap[\u001b[38;5;241m1\u001b[39m:],\n\u001b[0;32m    146\u001b[0m         )\n",
      "File \u001b[1;32m~\\anaconda3\\Lib\\site-packages\\sklearn\\impute\\_base.py:551\u001b[0m, in \u001b[0;36mSimpleImputer.transform\u001b[1;34m(self, X)\u001b[0m\n\u001b[0;32m    536\u001b[0m \u001b[38;5;250m\u001b[39m\u001b[38;5;124;03m\"\"\"Impute all missing values in `X`.\u001b[39;00m\n\u001b[0;32m    537\u001b[0m \n\u001b[0;32m    538\u001b[0m \u001b[38;5;124;03mParameters\u001b[39;00m\n\u001b[1;32m   (...)\u001b[0m\n\u001b[0;32m    547\u001b[0m \u001b[38;5;124;03m    `X` with imputed values.\u001b[39;00m\n\u001b[0;32m    548\u001b[0m \u001b[38;5;124;03m\"\"\"\u001b[39;00m\n\u001b[0;32m    549\u001b[0m check_is_fitted(\u001b[38;5;28mself\u001b[39m)\n\u001b[1;32m--> 551\u001b[0m X \u001b[38;5;241m=\u001b[39m \u001b[38;5;28;43mself\u001b[39;49m\u001b[38;5;241;43m.\u001b[39;49m\u001b[43m_validate_input\u001b[49m\u001b[43m(\u001b[49m\u001b[43mX\u001b[49m\u001b[43m,\u001b[49m\u001b[43m \u001b[49m\u001b[43min_fit\u001b[49m\u001b[38;5;241;43m=\u001b[39;49m\u001b[38;5;28;43;01mFalse\u001b[39;49;00m\u001b[43m)\u001b[49m\n\u001b[0;32m    552\u001b[0m statistics \u001b[38;5;241m=\u001b[39m \u001b[38;5;28mself\u001b[39m\u001b[38;5;241m.\u001b[39mstatistics_\n\u001b[0;32m    554\u001b[0m \u001b[38;5;28;01mif\u001b[39;00m X\u001b[38;5;241m.\u001b[39mshape[\u001b[38;5;241m1\u001b[39m] \u001b[38;5;241m!=\u001b[39m statistics\u001b[38;5;241m.\u001b[39mshape[\u001b[38;5;241m0\u001b[39m]:\n",
      "File \u001b[1;32m~\\anaconda3\\Lib\\site-packages\\sklearn\\impute\\_base.py:344\u001b[0m, in \u001b[0;36mSimpleImputer._validate_input\u001b[1;34m(self, X, in_fit)\u001b[0m\n\u001b[0;32m    342\u001b[0m         \u001b[38;5;28;01mraise\u001b[39;00m new_ve \u001b[38;5;28;01mfrom\u001b[39;00m \u001b[38;5;28;01mNone\u001b[39;00m\n\u001b[0;32m    343\u001b[0m     \u001b[38;5;28;01melse\u001b[39;00m:\n\u001b[1;32m--> 344\u001b[0m         \u001b[38;5;28;01mraise\u001b[39;00m ve\n\u001b[0;32m    346\u001b[0m \u001b[38;5;28;01mif\u001b[39;00m in_fit:\n\u001b[0;32m    347\u001b[0m     \u001b[38;5;66;03m# Use the dtype seen in `fit` for non-`fit` conversion\u001b[39;00m\n\u001b[0;32m    348\u001b[0m     \u001b[38;5;28mself\u001b[39m\u001b[38;5;241m.\u001b[39m_fit_dtype \u001b[38;5;241m=\u001b[39m X\u001b[38;5;241m.\u001b[39mdtype\n",
      "File \u001b[1;32m~\\anaconda3\\Lib\\site-packages\\sklearn\\impute\\_base.py:327\u001b[0m, in \u001b[0;36mSimpleImputer._validate_input\u001b[1;34m(self, X, in_fit)\u001b[0m\n\u001b[0;32m    324\u001b[0m     force_all_finite \u001b[38;5;241m=\u001b[39m \u001b[38;5;28;01mTrue\u001b[39;00m\n\u001b[0;32m    326\u001b[0m \u001b[38;5;28;01mtry\u001b[39;00m:\n\u001b[1;32m--> 327\u001b[0m     X \u001b[38;5;241m=\u001b[39m \u001b[38;5;28;43mself\u001b[39;49m\u001b[38;5;241;43m.\u001b[39;49m\u001b[43m_validate_data\u001b[49m\u001b[43m(\u001b[49m\n\u001b[0;32m    328\u001b[0m \u001b[43m        \u001b[49m\u001b[43mX\u001b[49m\u001b[43m,\u001b[49m\n\u001b[0;32m    329\u001b[0m \u001b[43m        \u001b[49m\u001b[43mreset\u001b[49m\u001b[38;5;241;43m=\u001b[39;49m\u001b[43min_fit\u001b[49m\u001b[43m,\u001b[49m\n\u001b[0;32m    330\u001b[0m \u001b[43m        \u001b[49m\u001b[43maccept_sparse\u001b[49m\u001b[38;5;241;43m=\u001b[39;49m\u001b[38;5;124;43m\"\u001b[39;49m\u001b[38;5;124;43mcsc\u001b[39;49m\u001b[38;5;124;43m\"\u001b[39;49m\u001b[43m,\u001b[49m\n\u001b[0;32m    331\u001b[0m \u001b[43m        \u001b[49m\u001b[43mdtype\u001b[49m\u001b[38;5;241;43m=\u001b[39;49m\u001b[43mdtype\u001b[49m\u001b[43m,\u001b[49m\n\u001b[0;32m    332\u001b[0m \u001b[43m        \u001b[49m\u001b[43mforce_all_finite\u001b[49m\u001b[38;5;241;43m=\u001b[39;49m\u001b[43mforce_all_finite\u001b[49m\u001b[43m,\u001b[49m\n\u001b[0;32m    333\u001b[0m \u001b[43m        \u001b[49m\u001b[43mcopy\u001b[49m\u001b[38;5;241;43m=\u001b[39;49m\u001b[38;5;28;43mself\u001b[39;49m\u001b[38;5;241;43m.\u001b[39;49m\u001b[43mcopy\u001b[49m\u001b[43m,\u001b[49m\n\u001b[0;32m    334\u001b[0m \u001b[43m    \u001b[49m\u001b[43m)\u001b[49m\n\u001b[0;32m    335\u001b[0m \u001b[38;5;28;01mexcept\u001b[39;00m \u001b[38;5;167;01mValueError\u001b[39;00m \u001b[38;5;28;01mas\u001b[39;00m ve:\n\u001b[0;32m    336\u001b[0m     \u001b[38;5;28;01mif\u001b[39;00m \u001b[38;5;124m\"\u001b[39m\u001b[38;5;124mcould not convert\u001b[39m\u001b[38;5;124m\"\u001b[39m \u001b[38;5;129;01min\u001b[39;00m \u001b[38;5;28mstr\u001b[39m(ve):\n",
      "File \u001b[1;32m~\\anaconda3\\Lib\\site-packages\\sklearn\\base.py:565\u001b[0m, in \u001b[0;36mBaseEstimator._validate_data\u001b[1;34m(self, X, y, reset, validate_separately, **check_params)\u001b[0m\n\u001b[0;32m    563\u001b[0m     \u001b[38;5;28;01mraise\u001b[39;00m \u001b[38;5;167;01mValueError\u001b[39;00m(\u001b[38;5;124m\"\u001b[39m\u001b[38;5;124mValidation should be done on X, y or both.\u001b[39m\u001b[38;5;124m\"\u001b[39m)\n\u001b[0;32m    564\u001b[0m \u001b[38;5;28;01melif\u001b[39;00m \u001b[38;5;129;01mnot\u001b[39;00m no_val_X \u001b[38;5;129;01mand\u001b[39;00m no_val_y:\n\u001b[1;32m--> 565\u001b[0m     X \u001b[38;5;241m=\u001b[39m \u001b[43mcheck_array\u001b[49m\u001b[43m(\u001b[49m\u001b[43mX\u001b[49m\u001b[43m,\u001b[49m\u001b[43m \u001b[49m\u001b[43minput_name\u001b[49m\u001b[38;5;241;43m=\u001b[39;49m\u001b[38;5;124;43m\"\u001b[39;49m\u001b[38;5;124;43mX\u001b[39;49m\u001b[38;5;124;43m\"\u001b[39;49m\u001b[43m,\u001b[49m\u001b[43m \u001b[49m\u001b[38;5;241;43m*\u001b[39;49m\u001b[38;5;241;43m*\u001b[39;49m\u001b[43mcheck_params\u001b[49m\u001b[43m)\u001b[49m\n\u001b[0;32m    566\u001b[0m     out \u001b[38;5;241m=\u001b[39m X\n\u001b[0;32m    567\u001b[0m \u001b[38;5;28;01melif\u001b[39;00m no_val_X \u001b[38;5;129;01mand\u001b[39;00m \u001b[38;5;129;01mnot\u001b[39;00m no_val_y:\n",
      "File \u001b[1;32m~\\anaconda3\\Lib\\site-packages\\sklearn\\utils\\validation.py:931\u001b[0m, in \u001b[0;36mcheck_array\u001b[1;34m(array, accept_sparse, accept_large_sparse, dtype, order, copy, force_all_finite, ensure_2d, allow_nd, ensure_min_samples, ensure_min_features, estimator, input_name)\u001b[0m\n\u001b[0;32m    929\u001b[0m     n_samples \u001b[38;5;241m=\u001b[39m _num_samples(array)\n\u001b[0;32m    930\u001b[0m     \u001b[38;5;28;01mif\u001b[39;00m n_samples \u001b[38;5;241m<\u001b[39m ensure_min_samples:\n\u001b[1;32m--> 931\u001b[0m         \u001b[38;5;28;01mraise\u001b[39;00m \u001b[38;5;167;01mValueError\u001b[39;00m(\n\u001b[0;32m    932\u001b[0m             \u001b[38;5;124m\"\u001b[39m\u001b[38;5;124mFound array with \u001b[39m\u001b[38;5;132;01m%d\u001b[39;00m\u001b[38;5;124m sample(s) (shape=\u001b[39m\u001b[38;5;132;01m%s\u001b[39;00m\u001b[38;5;124m) while a\u001b[39m\u001b[38;5;124m\"\u001b[39m\n\u001b[0;32m    933\u001b[0m             \u001b[38;5;124m\"\u001b[39m\u001b[38;5;124m minimum of \u001b[39m\u001b[38;5;132;01m%d\u001b[39;00m\u001b[38;5;124m is required\u001b[39m\u001b[38;5;132;01m%s\u001b[39;00m\u001b[38;5;124m.\u001b[39m\u001b[38;5;124m\"\u001b[39m\n\u001b[0;32m    934\u001b[0m             \u001b[38;5;241m%\u001b[39m (n_samples, array\u001b[38;5;241m.\u001b[39mshape, ensure_min_samples, context)\n\u001b[0;32m    935\u001b[0m         )\n\u001b[0;32m    937\u001b[0m \u001b[38;5;28;01mif\u001b[39;00m ensure_min_features \u001b[38;5;241m>\u001b[39m \u001b[38;5;241m0\u001b[39m \u001b[38;5;129;01mand\u001b[39;00m array\u001b[38;5;241m.\u001b[39mndim \u001b[38;5;241m==\u001b[39m \u001b[38;5;241m2\u001b[39m:\n\u001b[0;32m    938\u001b[0m     n_features \u001b[38;5;241m=\u001b[39m array\u001b[38;5;241m.\u001b[39mshape[\u001b[38;5;241m1\u001b[39m]\n",
      "\u001b[1;31mValueError\u001b[0m: Found array with 0 sample(s) (shape=(0, 5)) while a minimum of 1 is required by SimpleImputer."
     ]
    }
   ],
   "source": [
    "Xval = imputer.transform(melt_valid[features])\n",
    "preds = mdl.predict(Xval)"
   ]
  },
  {
   "cell_type": "code",
   "execution_count": null,
   "metadata": {
    "colab": {
     "base_uri": "https://localhost:8080/"
    },
    "id": "iPE_ChWc2tbo",
    "outputId": "c5446117-2b43-49c0-b16d-f5bf3e2c886a"
   },
   "outputs": [],
   "source": [
    "preds"
   ]
  },
  {
   "cell_type": "code",
   "execution_count": null,
   "metadata": {
    "colab": {
     "base_uri": "https://localhost:8080/"
    },
    "id": "CapP9fGC51QH",
    "outputId": "417b351b-0066-4b9f-cbb6-2e8e22fcc899"
   },
   "outputs": [],
   "source": [
    "preds.shape"
   ]
  },
  {
   "cell_type": "code",
   "execution_count": null,
   "metadata": {
    "id": "t8B3AyXX6-Mb"
   },
   "outputs": [],
   "source": [
    "L1_2022_2026=preds[10]\n",
    "L2_2022_2026=preds[11]"
   ]
  },
  {
   "cell_type": "code",
   "execution_count": null,
   "metadata": {
    "colab": {
     "base_uri": "https://localhost:8080/",
     "height": 833
    },
    "id": "_kjsHi-LUc1O",
    "outputId": "33c57381-e804-4bc8-f69a-bcbd0967309e"
   },
   "outputs": [],
   "source": [
    "year_arr=np.arange(2022,2027).reshape(-1,1)\n",
    "L1_arr=L1_2022_2026.reshape(-1,1)\n",
    "L1_arr_new=np.concatenate((year_arr, L1_arr),axis=1)\n",
    "df = pd.DataFrame(L1_arr_new, columns = ['year','NDVI'])\n",
    "df.loc[:,'year']=df.loc[:,'year'].astype(int)\n",
    "L1_NDVI=year_mean.loc[year_mean['loc'] == 'L1']\n",
    "# L1_NDVI.loc[:,'year']=L1_NDVI.loc[:,'year'].astype(int)\n",
    "L1_NDVI=pd.concat([L1_NDVI, df], ignore_index=True)\n",
    "L1_NDVI"
   ]
  },
  {
   "cell_type": "code",
   "execution_count": null,
   "metadata": {
    "colab": {
     "base_uri": "https://localhost:8080/",
     "height": 523
    },
    "id": "7VBM2xGraoZe",
    "outputId": "efa9a4d5-d9bb-46d2-9e30-a33a5d47fcfd"
   },
   "outputs": [],
   "source": [
    "import matplotlib.pyplot as plt\n",
    "\n",
    "fig, ax = plt.subplots(figsize=(18,8))\n",
    "ax.plot(L1_NDVI['year'], L1_NDVI['NDVI'],lw=2, label='Historical')\n",
    "ax.plot(df['year'], df['NDVI'],lw=2, label=\"Forecast \")\n",
    "ax.set_xlabel('Year',fontsize=16)\n",
    "ax.set_ylabel('NDVI',fontsize=14)\n",
    "ax.set_title(\"NDVI Forcast_Location 1\",fontsize=20)\n",
    "ax.grid()\n",
    "ax.legend();\n"
   ]
  },
  {
   "cell_type": "code",
   "execution_count": null,
   "metadata": {
    "colab": {
     "base_uri": "https://localhost:8080/",
     "height": 833
    },
    "id": "RaTOTDfITF5P",
    "outputId": "be8ea2dd-be6a-4303-f69f-cece62cd6e86"
   },
   "outputs": [],
   "source": [
    "L2_arr=L2_2022_2026.reshape(-1,1)\n",
    "L2_arr_new=np.concatenate((year_arr, L2_arr),axis=1)\n",
    "df2 = pd.DataFrame(L2_arr_new, columns = ['year','NDVI'])\n",
    "L2_NDVI=year_mean.loc[year_mean['loc'] == 'L2']\n",
    "L2_NDVI=pd.concat([L2_NDVI, df2], ignore_index=True)\n",
    "L2_NDVI.loc[:,'year']=L2_NDVI.loc[:,'year'].astype(int)\n",
    "L2_NDVI"
   ]
  },
  {
   "cell_type": "code",
   "execution_count": null,
   "metadata": {
    "colab": {
     "base_uri": "https://localhost:8080/",
     "height": 523
    },
    "id": "lDInPbAUKmBK",
    "outputId": "9102e99c-8dc5-483f-f316-33dbeb0632e6"
   },
   "outputs": [],
   "source": [
    "fig, ax = plt.subplots(figsize=(18,8))\n",
    "ax.plot(L2_NDVI['year'], L2_NDVI['NDVI'],lw=2, label='Historical')\n",
    "ax.plot(df2['year'], df2['NDVI'],lw=2, label=\"Forecast \")\n",
    "ax.set_xlabel('Year',fontsize=16)\n",
    "ax.set_ylabel('NDVI',fontsize=14)\n",
    "ax.set_title(\"NDVI Forcast_Location 2\",fontsize=20)\n",
    "ax.grid()\n",
    "ax.legend();\n"
   ]
  },
  {
   "cell_type": "markdown",
   "metadata": {
    "id": "fak5iyk3Ap-N"
   },
   "source": [
    "# reference to codes at:\n",
    "\n",
    "https://github.com/ledmaster/english_tutorials/blob/main/multiple_time_series/workshop_notebook.ipynb\n"
   ]
  }
 ],
 "metadata": {
  "colab": {
   "collapsed_sections": [],
   "name": "Two locations NDVI forecasting",
   "provenance": []
  },
  "kernelspec": {
   "display_name": "Python 3 (ipykernel)",
   "language": "python",
   "name": "python3"
  },
  "language_info": {
   "codemirror_mode": {
    "name": "ipython",
    "version": 3
   },
   "file_extension": ".py",
   "mimetype": "text/x-python",
   "name": "python",
   "nbconvert_exporter": "python",
   "pygments_lexer": "ipython3",
   "version": "3.11.7"
  }
 },
 "nbformat": 4,
 "nbformat_minor": 4
}
